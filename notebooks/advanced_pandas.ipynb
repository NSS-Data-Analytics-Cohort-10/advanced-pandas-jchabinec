{
 "cells": [
  {
   "cell_type": "markdown",
   "id": "a05d5729",
   "metadata": {},
   "source": [
    "# Advanced pandas Practice - Nashville City Cemetery\n",
    "\n",
    "In this exercise, you'll get to explore some additional features of the pandas library for cleaning and summarizing data. This will be done using the Nashville City Cemetery data.\n",
    "\n",
    "As a reminder, you can get more information about the data that you were working with here: [Nashville City Cemetery Metadata](https://data.nashville.gov/api/views/diwx-fgj7/files/963c111e-2e2a-4133-a807-2becd590feb2?download=true&filename=Historic-Nashville-City-Cemetery-Interments-1846-1979-Metadata-v2.pdf)."
   ]
  },
  {
   "cell_type": "markdown",
   "id": "cda9fd60",
   "metadata": {},
   "source": [
    "**1.** Read the City Cemetery data into a pandas DataFrame. **Hint:** see the [`read_excel` function](https://pandas.pydata.org/docs/reference/api/pandas.read_excel.html)."
   ]
  },
  {
   "cell_type": "code",
   "execution_count": null,
   "id": "4683f5cd",
   "metadata": {},
   "outputs": [],
   "source": [
    "import pandas as pd\n",
    "import numpy as np\n",
    "cemetery_df = pd.read_excel('../data/Historic_Nashville_City_Cemetery_Interments__1846-1979.xlsx')\n",
    "cemetery_df.head()"
   ]
  },
  {
   "cell_type": "markdown",
   "id": "a85a9f22",
   "metadata": {},
   "source": [
    "**2. Most Common Causes of Death.**  \n",
    "   a. Find the 10 most common (known) recorded causes of death.  \n",
    "   b. Clean up some of the misspellings. Use the [`replace` method](https://pandas.pydata.org/docs/reference/api/pandas.DataFrame.replace.html) to clean up some of the causes of death. For example, replace \"Cholrea\" with \"Cholera\" and \"Still Born\" with \"Stillborn\".   \n",
    "   **Bonus (Save For Last):** One method of detecting and correcting misspellings is fuzzy matching using metrics like [Levenshtein distance](https://en.wikipedia.org/wiki/Levenshtein_distance). Check out [thefuzz](https://github.com/seatgeek/thefuzz) a library that implements fuzzy matching and apply it to detect and correct misspellings.  \n",
    "   c. After correcting the spellings, find the 10 most common causes of death and create a bar chart to display your findings.  "
   ]
  },
  {
   "cell_type": "code",
   "execution_count": null,
   "id": "1677d1c5",
   "metadata": {},
   "outputs": [],
   "source": [
    "cause_of_death = cemetery_df['Cause of Death/Burial'].value_counts()\n",
    "cause_of_death.head(10)"
   ]
  },
  {
   "cell_type": "code",
   "execution_count": null,
   "id": "03357d7a",
   "metadata": {},
   "outputs": [],
   "source": [
    "cemetery_df['Cause of Death/Burial (Clean)'] = cemetery_df['Cause of Death/Burial'].replace(['Cholrea','Cholera Infantum','Cholera Morbus','Cholrea Morbus','Cholera Inphantum','Cholrea Infantum'],'Cholera').replace(['Still Born','Stil Born','Stilborn','Still Bornd','Still born','Still Borned','Still BOrn'],'Stillborn')\n",
    "cause_of_death_clean = cemetery_df['Cause of Death/Burial (Clean)'].value_counts()\n",
    "cause_of_death_clean.head(10)"
   ]
  },
  {
   "cell_type": "markdown",
   "id": "b63bfeb3",
   "metadata": {},
   "source": [
    "3. Create a line chart showing the number of burials per year."
   ]
  },
  {
   "cell_type": "code",
   "execution_count": null,
   "id": "8b7540c6",
   "metadata": {},
   "outputs": [],
   "source": [
    "burials_per_year = cemetery_df['Burial Year'].value_counts()\n",
    "burials_per_year_df = pd.DataFrame(data=burials_per_year).sort_index()\n",
    "burials_per_year_df.plot()"
   ]
  },
  {
   "cell_type": "markdown",
   "id": "0d925de2",
   "metadata": {},
   "source": [
    "4. **Burials per Month and Year**  \n",
    "    a. Use the [crosstab function](https://pandas.pydata.org/docs/reference/api/pandas.crosstab.html) to build a summary table showing the number of burials per year per month. You should have one row per year and one column for month.  \n",
    "    b. After creating this summary table, make sure that the year labels are integers (no decimal part) and that the columns are sorted correctly.  \n",
    "    c. Filter your table to show only the years 1846 through 1860.  \n",
    "    **Bonus** Display your table so that highlights any months that had over 100 burials. Hint: Look at styling in pandas: https://pandas.pydata.org/pandas-docs/version/1.0/user_guide/style.html  \n",
    "    d. Go back to your original DataFrame and filter to the year and month that had the largest number of burials. What are the most common causes of death for that month?"
   ]
  },
  {
   "cell_type": "code",
   "execution_count": null,
   "id": "bd16ff83",
   "metadata": {},
   "outputs": [],
   "source": [
    "burials_1846_to_1860 = cemetery_df[cemetery_df['Burial Year']<=1860]\n",
    "pd.crosstab(burials_1846_to_1860['Burial Year'].dropna().astype('int32'),burials_1846_to_1860['Month No.'])"
   ]
  },
  {
   "cell_type": "markdown",
   "id": "8077ceb5",
   "metadata": {},
   "source": [
    "5. **Burials per Decade**  \n",
    "    a. Create a \"Decade\" column to show the decade in which a burial occurred.    \n",
    "    b. Examine the burials per decade. Look at the total number of burials and the proportion (aka percentage) of male burials and female burials.  \n",
    "    c. Create a clustered bar chart to show how male and female burials have changed over time."
   ]
  },
  {
   "cell_type": "code",
   "execution_count": null,
   "id": "4d2f9152",
   "metadata": {},
   "outputs": [],
   "source": [
    "cemetery_df['Decade'] = np.floor(cemetery_df['Burial Year']/10)*10\n",
    "cemetery_df['Sex_Clean'] = cemetery_df['Sex'].replace(['Boy','m'],'M').replace(['G','W','FF'],'F')\n",
    "burials_per_decade = cemetery_df.filter(items=['Decade','Sex_Clean']).where(cemetery_df['Sex_Clean'].isin(['M','F']))\n",
    "burials_per_decade.groupby('Decade')['Sex_Clean'].value_counts(normalize=True).plot(kind='bar')\n"
   ]
  }
 ],
 "metadata": {
  "kernelspec": {
   "display_name": "Python 3 (ipykernel)",
   "language": "python",
   "name": "python3"
  },
  "language_info": {
   "codemirror_mode": {
    "name": "ipython",
    "version": 3
   },
   "file_extension": ".py",
   "mimetype": "text/x-python",
   "name": "python",
   "nbconvert_exporter": "python",
   "pygments_lexer": "ipython3",
   "version": "3.11.5"
  }
 },
 "nbformat": 4,
 "nbformat_minor": 5
}
